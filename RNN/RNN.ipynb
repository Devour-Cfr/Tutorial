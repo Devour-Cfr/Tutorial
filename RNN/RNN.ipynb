{
 "cells": [
  {
   "cell_type": "code",
   "execution_count": 3,
   "metadata": {
    "slideshow": {
     "slide_type": "notes"
    }
   },
   "outputs": [],
   "source": [
    "import tensorflow as tf\n",
    "import tensorflow.keras as keras"
   ]
  },
  {
   "cell_type": "code",
   "execution_count": 5,
   "metadata": {
    "slideshow": {
     "slide_type": "notes"
    }
   },
   "outputs": [
    {
     "data": {
      "text/plain": [
       "[<tf.Variable 'kernel:0' shape=(4, 3) dtype=float32, numpy=\n",
       " array([[ 0.8977604 , -0.12475657, -0.68681824],\n",
       "        [-0.28871775, -0.3524267 , -0.3903607 ],\n",
       "        [-0.44729763, -0.15833509,  0.3225938 ],\n",
       "        [-0.40088904,  0.23749888,  0.09884322]], dtype=float32)>,\n",
       " <tf.Variable 'recurrent_kernel:0' shape=(3, 3) dtype=float32, numpy=\n",
       " array([[-0.36769986,  0.8864489 ,  0.28107846],\n",
       "        [-0.11551711,  0.2563728 , -0.95965034],\n",
       "        [ 0.9227419 ,  0.38533264, -0.00813177]], dtype=float32)>,\n",
       " <tf.Variable 'bias:0' shape=(3,) dtype=float32, numpy=array([0., 0., 0.], dtype=float32)>]"
      ]
     },
     "execution_count": 5,
     "metadata": {},
     "output_type": "execute_result"
    }
   ],
   "source": [
    "cell = keras.layers.SimpleRNNCell(3)\n",
    "cell.build(input_shape=(None, 4))\n",
    "cell.trainable_variables"
   ]
  },
  {
   "cell_type": "code",
   "execution_count": 9,
   "metadata": {
    "slideshow": {
     "slide_type": "notes"
    }
   },
   "outputs": [
    {
     "name": "stdout",
     "output_type": "stream",
     "text": [
      "(4, 64) (4, 64)\n",
      "2481689168416 2481689168416\n"
     ]
    }
   ],
   "source": [
    "# 模拟4个句子，每个句子80个单词，每个单词由100维嵌入表示的运算\n",
    "x = tf.random.normal([4, 80, 100])\n",
    "xt0 = x[:, 0, :]\n",
    "\n",
    "cell = keras.layers.SimpleRNNCell(64)\n",
    "out, state = cell(xt0, [tf.zeros([4, 64])])\n",
    "print(out.shape, state[0].shape)\n",
    "print(id(out), id(state[0]))"
   ]
  },
  {
   "cell_type": "code",
   "execution_count": 20,
   "metadata": {
    "slideshow": {
     "slide_type": "notes"
    }
   },
   "outputs": [
    {
     "name": "stdout",
     "output_type": "stream",
     "text": [
      "(4, 64) (4, 64)\n"
     ]
    }
   ],
   "source": [
    "x = tf.random.normal([4, 80, 100])\n",
    "xt0 = x[:, 0, :]\n",
    "\n",
    "cell = keras.layers.SimpleRNNCell(64)\n",
    "cell2 = keras.layers.SimpleRNNCell(64)\n",
    "state0 = [tf.zeros([4, 64])]\n",
    "state1 = [tf.zeros([4, 64])]\n",
    "out0, state0 = cell(xt0, state0)\n",
    "out1, state1 = cell2(out0, state1)\n",
    "print(out1.shape, state1[0].shape)"
   ]
  },
  {
   "cell_type": "code",
   "execution_count": 23,
   "metadata": {
    "slideshow": {
     "slide_type": "notes"
    }
   },
   "outputs": [],
   "source": [
    "x = tf.random.normal([4, 80, 100])\n",
    "cell = keras.layers.SimpleRNNCell(64)\n",
    "cell2 = keras.layers.SimpleRNNCell(64)\n",
    "state0 = [tf.zeros([4, 64])]\n",
    "state1 = [tf.zeros([4, 64])]\n",
    "\n",
    "for word in tf.unstack(x, axis=1):\n",
    "    # word: [b, 100]\n",
    "    # out0: [b, 64]\n",
    "    out0, state0 = cell(word, state0, training=True)\n",
    "    # out1: [b, 64]\n",
    "    out1, state1 = cell2(out0, state1, training=True)"
   ]
  },
  {
   "cell_type": "code",
   "execution_count": 28,
   "metadata": {
    "slideshow": {
     "slide_type": "notes"
    }
   },
   "outputs": [
    {
     "name": "stdout",
     "output_type": "stream",
     "text": [
      "(4, 64)\n"
     ]
    }
   ],
   "source": [
    "x = tf.random.normal([4, 80, 100])\n",
    "\n",
    "rnn = keras.Sequential([\n",
    "    keras.layers.SimpleRNN(64, dropout=0.5, return_sequences=True, unroll=True),\n",
    "    keras.layers.SimpleRNN(64, dropout=0.5, unroll=True)\n",
    "])\n",
    "# [b, 80, 100] => [b, 64]\n",
    "out = rnn(x)\n",
    "print(out.shape)"
   ]
  }
 ],
 "metadata": {
  "celltoolbar": "幻灯片",
  "kernelspec": {
   "display_name": "Python 3",
   "language": "python",
   "name": "python3"
  },
  "language_info": {
   "codemirror_mode": {
    "name": "ipython",
    "version": 3
   },
   "file_extension": ".py",
   "mimetype": "text/x-python",
   "name": "python",
   "nbconvert_exporter": "python",
   "pygments_lexer": "ipython3",
   "version": "3.6.9"
  }
 },
 "nbformat": 4,
 "nbformat_minor": 2
}
