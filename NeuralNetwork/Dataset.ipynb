{
 "cells": [
  {
   "cell_type": "code",
   "execution_count": 1,
   "metadata": {
    "slideshow": {
     "slide_type": "notes"
    }
   },
   "outputs": [],
   "source": [
    "import tensorflow as tf\n",
    "%matplotlib inline\n",
    "import matplotlib.pyplot as plt\n",
    "plt.style.use('fivethirtyeight')"
   ]
  },
  {
   "cell_type": "code",
   "execution_count": 12,
   "metadata": {
    "slideshow": {
     "slide_type": "notes"
    }
   },
   "outputs": [
    {
     "name": "stdout",
     "output_type": "stream",
     "text": [
      "train shape (60000, 28, 28) (60000,)\n",
      "test shape (10000, 28, 28) (10000,)\n"
     ]
    },
    {
     "data": {
      "image/png": "[encoded data removed]",
      "text/plain": [
       "<Figure size 432x288 with 1 Axes>"
      ]
     },
     "metadata": {},
     "output_type": "display_data"
    }
   ],
   "source": [
    "import tensorflow.keras.datasets as datasets\n",
    "(x_train, y_train), (x_test, y_test) = datasets.mnist.load_data()\n",
    "print(\"train shape\", x_train.shape, y_train.shape)\n",
    "print(\"test shape\", x_test.shape, y_test.shape)\n",
    "plt.imshow(x_train[0], cmap='gray')\n",
    "plt.title(y_train[0])\n",
    "plt.show()"
   ]
  },
  {
   "cell_type": "code",
   "execution_count": 16,
   "metadata": {
    "slideshow": {
     "slide_type": "notes"
    }
   },
   "outputs": [
    {
     "name": "stdout",
     "output_type": "stream",
     "text": [
      "(28, 28)\n",
      "(28, 28)\n",
      "tf.Tensor(5, shape=(), dtype=uint8)\n"
     ]
    }
   ],
   "source": [
    "db = tf.data.Dataset.from_tensor_slices(x_train)\n",
    "print(next(iter(db)).shape)\n",
    "\n",
    "db = tf.data.Dataset.from_tensor_slices((x_train, y_train))\n",
    "print(next(iter(db))[0].shape)\n",
    "print(next(iter(db))[1])"
   ]
  },
  {
   "cell_type": "code",
   "execution_count": 20,
   "metadata": {
    "slideshow": {
     "slide_type": "notes"
    }
   },
   "outputs": [
    {
     "data": {
      "text/plain": [
       "<ShuffleDataset shapes: ((28, 28), ()), types: (tf.uint8, tf.uint8)>"
      ]
     },
     "execution_count": 20,
     "metadata": {},
     "output_type": "execute_result"
    }
   ],
   "source": [
    "db = tf.data.Dataset.from_tensor_slices((x_train, y_train))\n",
    "db.shuffle(10000)"
   ]
  },
  {
   "cell_type": "code",
   "execution_count": 26,
   "metadata": {
    "slideshow": {
     "slide_type": "notes"
    }
   },
   "outputs": [
    {
     "name": "stdout",
     "output_type": "stream",
     "text": [
      "(28, 28) (10,)\n",
      "tf.Tensor([0. 0. 0. 0. 0. 1. 0. 0. 0. 0.], shape=(10,), dtype=float32)\n"
     ]
    }
   ],
   "source": [
    "def preprocess(x, y):\n",
    "    x = tf.cast(x, dtype=tf.float32) / 255.\n",
    "    y = tf.one_hot(tf.cast(y, dtype=tf.int32), depth=10)\n",
    "    return x, y\n",
    "db = tf.data.Dataset.from_tensor_slices((x_train, y_train))\n",
    "db = db.map(preprocess)\n",
    "\n",
    "sample = next(iter(db))\n",
    "print(sample[0].shape, sample[1].shape)\n",
    "print(sample[1][:])"
   ]
  },
  {
   "cell_type": "code",
   "execution_count": 28,
   "metadata": {
    "slideshow": {
     "slide_type": "notes"
    }
   },
   "outputs": [
    {
     "name": "stdout",
     "output_type": "stream",
     "text": [
      "(32, 28, 28) (32,)\n"
     ]
    }
   ],
   "source": [
    "db = tf.data.Dataset.from_tensor_slices((x_train, y_train))\n",
    "db = db.batch(32)\n",
    "sample = next(iter(db))\n",
    "print(sample[0].shape, sample[1].shape)"
   ]
  },
  {
   "cell_type": "code",
   "execution_count": 29,
   "metadata": {
    "slideshow": {
     "slide_type": "notes"
    }
   },
   "outputs": [
    {
     "name": "stdout",
     "output_type": "stream",
     "text": [
      "3\n"
     ]
    }
   ],
   "source": [
    "db = tf.data.Dataset.from_tensor_slices((x_train, y_train))\n",
    "db = db.repeat(3)\n",
    "\n",
    "epoch = 0\n",
    "step = 0\n",
    "for (x, y) in db:\n",
    "    step += 1\n",
    "    if step % x_train.shape[0] == 0:\n",
    "        epoch += 1\n",
    "        step = 0\n",
    "print(epoch)"
   ]
  },
  {
   "cell_type": "code",
   "execution_count": 32,
   "metadata": {},
   "outputs": [
    {
     "name": "stdout",
     "output_type": "stream",
     "text": [
      "Downloading data from https://storage.googleapis.com/tensorflow/tf-keras-datasets/train-images-idx3-ubyte.gz\n",
      "26427392/26421880 [==============================] - 173s 7us/step\n",
      "Downloading data from https://storage.googleapis.com/tensorflow/tf-keras-datasets/t10k-labels-idx1-ubyte.gz\n",
      "8192/5148 [===============================================] - 0s 0us/step\n",
      "Downloading data from https://storage.googleapis.com/tensorflow/tf-keras-datasets/t10k-images-idx3-ubyte.gz\n",
      "4423680/4422102 [==============================] - 130s 29us/step\n"
     ]
    }
   ],
   "source": [
    "def preprocess(x, y):\n",
    "    x = tf.cast(x, dtype=tf.float32)\n",
    "    y = tf.one_hot(tf.cast(y, tf.int64), depth=10)\n",
    "    return x, y\n",
    "\n",
    "def mnist_dataset():\n",
    "    (x_train, y_train), (x_valid, y_valid) = datasets.fashion_mnist.load_data()\n",
    "    ds = tf.data.Dataset.from_tensor_slices((x_train, y_train))\n",
    "    ds = ds.map(preprocess)\n",
    "    ds = ds.shuffle(60000).batch(32)\n",
    "    \n",
    "    ds_valid = tf.data.Dataset.from_tensor_slices((x_valid, y_valid))\n",
    "    ds_valid = ds_valid.map(preprocess)\n",
    "    ds_valid = ds_valid.shuffle(10000).batch(32)\n",
    "    return ds, ds_valid\n",
    "\n",
    "ds_train, ds_valid = mnist_dataset()"
   ]
  }
 ],
 "metadata": {
  "celltoolbar": "幻灯片",
  "kernelspec": {
   "display_name": "Python 3",
   "language": "python",
   "name": "python3"
  },
  "language_info": {
   "codemirror_mode": {
    "name": "ipython",
    "version": 3
   },
   "file_extension": ".py",
   "mimetype": "text/x-python",
   "name": "python",
   "nbconvert_exporter": "python",
   "pygments_lexer": "ipython3",
   "version": "3.6.9"
  }
 },
 "nbformat": 4,
 "nbformat_minor": 2
}
