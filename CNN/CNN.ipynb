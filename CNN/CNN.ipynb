{
 "cells": [
  {
   "cell_type": "code",
   "execution_count": 1,
   "metadata": {
    "slideshow": {
     "slide_type": "notes"
    }
   },
   "outputs": [],
   "source": [
    "import tensorflow as tf\n",
    "from tensorflow.keraseras import layers"
   ]
  },
  {
   "cell_type": "code",
   "execution_count": 9,
   "metadata": {
    "slideshow": {
     "slide_type": "notes"
    }
   },
   "outputs": [
    {
     "name": "stdout",
     "output_type": "stream",
     "text": [
      "(1, 32, 32, 16)\n",
      "(1, 15, 15, 16)\n"
     ]
    }
   ],
   "source": [
    "x = tf.random.normal([1, 32, 32, 3])\n",
    "\n",
    "layer = layers.Conv2D(filters=16, kernel_size=(3, 3), strides=1, padding='same')\n",
    "print(layer(x).shape)\n",
    "\n",
    "layer = layers.Conv2D(filters=16, kernel_size=(3, 3), strides=2, padding='valid')\n",
    "print(layer(x).shape)"
   ]
  },
  {
   "cell_type": "code",
   "execution_count": 11,
   "metadata": {
    "slideshow": {
     "slide_type": "notes"
    }
   },
   "outputs": [
    {
     "name": "stdout",
     "output_type": "stream",
     "text": [
      "(1, 16, 16, 3)\n",
      "(1, 16, 16, 3)\n"
     ]
    }
   ],
   "source": [
    "x = tf.random.normal([1, 32, 32, 3])\n",
    "layer = layers.MaxPooling2D(strides=2)\n",
    "print(layer(x).shape)\n",
    "layer = layers.AveragePooling2D(strides=2)\n",
    "print(layer(x).shape)"
   ]
  },
  {
   "cell_type": "code",
   "execution_count": 12,
   "metadata": {
    "slideshow": {
     "slide_type": "notes"
    }
   },
   "outputs": [
    {
     "name": "stdout",
     "output_type": "stream",
     "text": [
      "(1, 64, 64, 3)\n"
     ]
    }
   ],
   "source": [
    "x = tf.random.normal([1, 32, 32, 3])\n",
    "layer = layers.UpSampling2D(size=(2, 2))\n",
    "print(layer(x).shape)"
   ]
  }
 ],
 "metadata": {
  "celltoolbar": "幻灯片",
  "kernelspec": {
   "display_name": "Python 3",
   "language": "python",
   "name": "python3"
  },
  "language_info": {
   "codemirror_mode": {
    "name": "ipython",
    "version": 3
   },
   "file_extension": ".py",
   "mimetype": "text/x-python",
   "name": "python",
   "nbconvert_exporter": "python",
   "pygments_lexer": "ipython3",
   "version": "3.6.9"
  }
 },
 "nbformat": 4,
 "nbformat_minor": 2
}
