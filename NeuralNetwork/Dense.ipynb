{
 "cells": [
  {
   "cell_type": "code",
   "execution_count": 1,
   "metadata": {
    "slideshow": {
     "slide_type": "notes"
    }
   },
   "outputs": [],
   "source": [
    "import tensorflow as tf"
   ]
  },
  {
   "cell_type": "code",
   "execution_count": 5,
   "metadata": {
    "slideshow": {
     "slide_type": "notes"
    }
   },
   "outputs": [
    {
     "name": "stdout",
     "output_type": "stream",
     "text": [
      "(4, 512)\n",
      "(784, 512) (512,)\n",
      "(4, 10) (10,)\n"
     ]
    }
   ],
   "source": [
    "x = tf.random.normal([4, 784])\n",
    "net = tf.keras.layers.Dense(512)\n",
    "\n",
    "out = net(x)\n",
    "print(out.shape)\n",
    "print(net.kernel.shape, net.bias.shape)  # 自动创建的参数\n",
    "\n",
    "net = tf.keras.layers.Dense(10)\n",
    "net.build(input_shape=(None, 4))\n",
    "print(net.kernel.shape, net.bias.shape)  # 手动指定创建参数格式"
   ]
  },
  {
   "cell_type": "code",
   "execution_count": 6,
   "metadata": {
    "slideshow": {
     "slide_type": "notes"
    }
   },
   "outputs": [
    {
     "name": "stdout",
     "output_type": "stream",
     "text": [
      "Model: \"sequential\"\n",
      "_________________________________________________________________\n",
      "Layer (type)                 Output Shape              Param #   \n",
      "=================================================================\n",
      "dense_5 (Dense)              multiple                  8         \n",
      "_________________________________________________________________\n",
      "dense_6 (Dense)              multiple                  6         \n",
      "_________________________________________________________________\n",
      "dense_7 (Dense)              multiple                  6         \n",
      "=================================================================\n",
      "Total params: 20\n",
      "Trainable params: 20\n",
      "Non-trainable params: 0\n",
      "_________________________________________________________________\n",
      "None\n",
      "dense_5/kernel:0 (3, 2)\n",
      "dense_5/bias:0 (2,)\n",
      "dense_6/kernel:0 (2, 2)\n",
      "dense_6/bias:0 (2,)\n",
      "dense_7/kernel:0 (2, 2)\n",
      "dense_7/bias:0 (2,)\n"
     ]
    }
   ],
   "source": [
    "x = tf.random.normal([2, 3])\n",
    "\n",
    "model = tf.keras.Sequential([\n",
    "    tf.keras.layers.Dense(2, activation='relu'),\n",
    "    tf.keras.layers.Dense(2, activation='relu'),\n",
    "    tf.keras.layers.Dense(2, activation='softmax'),\n",
    "])\n",
    "\n",
    "model.build(input_shape=[None, 3])\n",
    "print(model.summary())\n",
    "for p in model.trainable_variables:\n",
    "    print(p.name, p.shape)"
   ]
  }
 ],
 "metadata": {
  "celltoolbar": "幻灯片",
  "kernelspec": {
   "display_name": "Python 3",
   "language": "python",
   "name": "python3"
  },
  "language_info": {
   "codemirror_mode": {
    "name": "ipython",
    "version": 3
   },
   "file_extension": ".py",
   "mimetype": "text/x-python",
   "name": "python",
   "nbconvert_exporter": "python",
   "pygments_lexer": "ipython3",
   "version": "3.6.9"
  }
 },
 "nbformat": 4,
 "nbformat_minor": 2
}
