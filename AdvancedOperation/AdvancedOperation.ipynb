{
 "cells": [
  {
   "cell_type": "code",
   "execution_count": 1,
   "metadata": {
    "slideshow": {
     "slide_type": "notes"
    }
   },
   "outputs": [],
   "source": [
    "import tensorflow as tf"
   ]
  },
  {
   "cell_type": "code",
   "execution_count": 4,
   "metadata": {
    "slideshow": {
     "slide_type": "notes"
    }
   },
   "outputs": [
    {
     "name": "stdout",
     "output_type": "stream",
     "text": [
      "(6, 35, 8)\n",
      "(4, 35, 8)\n"
     ]
    }
   ],
   "source": [
    "a = tf.ones([4, 35, 8])\n",
    "b = tf.ones([2, 35, 8])\n",
    "c = tf.concat([a, b], axis=0)\n",
    "print(c.shape)\n",
    "a = tf.ones([4, 32, 8])\n",
    "b = tf.ones([4, 3, 8])\n",
    "c = tf.concat([a, b], axis=1)\n",
    "print(c.shape)"
   ]
  },
  {
   "cell_type": "code",
   "execution_count": 7,
   "metadata": {
    "slideshow": {
     "slide_type": "notes"
    }
   },
   "outputs": [
    {
     "name": "stdout",
     "output_type": "stream",
     "text": [
      "(2, 4, 35, 8)\n",
      "(4, 35, 8, 2)\n"
     ]
    }
   ],
   "source": [
    "a = tf.ones([4, 35, 8])\n",
    "b = tf.ones([4, 35, 8])\n",
    "c = tf.stack([a, b], axis=0)\n",
    "print(c.shape)\n",
    "c = tf.stack([a, b], axis=3)\n",
    "print(c.shape)"
   ]
  },
  {
   "cell_type": "code",
   "execution_count": 8,
   "metadata": {
    "slideshow": {
     "slide_type": "notes"
    }
   },
   "outputs": [
    {
     "name": "stdout",
     "output_type": "stream",
     "text": [
      "(4, 35, 8) (4, 35, 8)\n",
      "(2, 4, 35) (2, 4, 35)\n"
     ]
    }
   ],
   "source": [
    "a = tf.ones([4, 35, 8])\n",
    "b = tf.ones([4, 35, 8])\n",
    "c = tf.stack([a, b], axis=0)\n",
    "aa, bb = tf.unstack(c, axis=0)\n",
    "print(aa.shape, bb.shape)\n",
    "res = tf.unstack(c, axis=3)\n",
    "print(res[0].shape, res[6].shape)"
   ]
  },
  {
   "cell_type": "code",
   "execution_count": 10,
   "metadata": {
    "slideshow": {
     "slide_type": "notes"
    }
   },
   "outputs": [
    {
     "name": "stdout",
     "output_type": "stream",
     "text": [
      "(2, 4, 35, 8)\n",
      "2\n",
      "3\n",
      "(2, 4, 35, 2) (2, 4, 35, 4)\n"
     ]
    }
   ],
   "source": [
    "a = tf.ones([4, 35, 8])\n",
    "b = tf.ones([4, 35, 8])\n",
    "c = tf.stack([a, b], axis=0)\n",
    "print(c.shape)\n",
    "res = tf.split(c, axis=3, num_or_size_splits=2)\n",
    "print(len(res))\n",
    "res = tf.split(c, axis=3, num_or_size_splits=[2, 2, 4])\n",
    "print(len(res))\n",
    "print(res[0].shape, res[2].shape)"
   ]
  },
  {
   "cell_type": "code",
   "execution_count": 11,
   "metadata": {
    "slideshow": {
     "slide_type": "notes"
    }
   },
   "outputs": [
    {
     "name": "stdout",
     "output_type": "stream",
     "text": [
      "tf.Tensor(2.0, shape=(), dtype=float32)\n",
      "tf.Tensor(2.0, shape=(), dtype=float32)\n",
      "tf.Tensor([1.4142135 1.4142135], shape=(2,), dtype=float32)\n",
      "tf.Tensor([2. 2.], shape=(2,), dtype=float32)\n"
     ]
    }
   ],
   "source": [
    "a = tf.ones([2, 2])\n",
    "print(tf.norm(a))\n",
    "print(tf.sqrt(tf.reduce_sum(tf.square(a))))\n",
    "print(tf.norm(a, axis=1))\n",
    "\n",
    "print(tf.norm(a, ord=1, axis=0))"
   ]
  },
  {
   "cell_type": "code",
   "execution_count": 16,
   "metadata": {
    "slideshow": {
     "slide_type": "notes"
    }
   },
   "outputs": [
    {
     "data": {
      "text/plain": [
       "(<tf.Tensor: id=213, shape=(), dtype=float32, numpy=-2.2308245>,\n",
       " <tf.Tensor: id=215, shape=(), dtype=float32, numpy=2.4059465>,\n",
       " <tf.Tensor: id=217, shape=(), dtype=float32, numpy=0.06347918>,\n",
       " <tf.Tensor: id=219, shape=(4,), dtype=float32, numpy=array([-0.12330155, -2.2308245 , -1.9824525 , -0.8308944 ], dtype=float32)>,\n",
       " <tf.Tensor: id=221, shape=(4,), dtype=float32, numpy=array([2.4059465, 1.4869152, 1.687304 , 2.1147592], dtype=float32)>,\n",
       " <tf.Tensor: id=223, shape=(4,), dtype=float32, numpy=array([ 0.85363805, -0.71917427, -0.04644271,  0.16589561], dtype=float32)>)"
      ]
     },
     "execution_count": 16,
     "metadata": {},
     "output_type": "execute_result"
    }
   ],
   "source": [
    "a = tf.random.normal([4, 10])\n",
    "tf.reduce_min(a), tf.reduce_max(a), tf.reduce_mean(a)\n",
    "tf.reduce_min(a, axis=1), tf.reduce_max(a, axis=1), tf.reduce_mean(a, axis=1)"
   ]
  },
  {
   "cell_type": "code",
   "execution_count": 17,
   "metadata": {
    "slideshow": {
     "slide_type": "notes"
    }
   },
   "outputs": [
    {
     "name": "stdout",
     "output_type": "stream",
     "text": [
      "tf.Tensor([0 1 0 1 2 2 1 1 1 3], shape=(10,), dtype=int64)\n",
      "tf.Tensor([0 1 0 1 2 2 1 1 1 3], shape=(10,), dtype=int64)\n"
     ]
    }
   ],
   "source": [
    "a = tf.random.normal([4, 10])\n",
    "print(tf.argmax(a))\n",
    "print(tf.argmax(a, axis=0))"
   ]
  },
  {
   "cell_type": "code",
   "execution_count": 19,
   "metadata": {
    "slideshow": {
     "slide_type": "notes"
    }
   },
   "outputs": [
    {
     "name": "stdout",
     "output_type": "stream",
     "text": [
      "tf.Tensor([ True  True  True  True False], shape=(5,), dtype=bool)\n",
      "tf.Tensor(4, shape=(), dtype=int32)\n"
     ]
    }
   ],
   "source": [
    "a = tf.convert_to_tensor([0, 1, 2, 3, 6])\n",
    "b = tf.range(5)\n",
    "res = tf.equal(a, b)\n",
    "print(res)\n",
    "print(tf.reduce_sum(tf.cast(res, tf.int32)))"
   ]
  },
  {
   "cell_type": "code",
   "execution_count": 20,
   "metadata": {
    "slideshow": {
     "slide_type": "notes"
    }
   },
   "outputs": [
    {
     "name": "stdout",
     "output_type": "stream",
     "text": [
      "Unique(y=<tf.Tensor: id=250, shape=(4,), dtype=int32, numpy=array([2, 3, 4, 5])>, idx=<tf.Tensor: id=251, shape=(6,), dtype=int32, numpy=array([0, 1, 0, 2, 2, 3])>)\n"
     ]
    }
   ],
   "source": [
    "a = tf.convert_to_tensor([2, 3, 2, 4, 4, 5])\n",
    "print(tf.unique(a))"
   ]
  },
  {
   "cell_type": "code",
   "execution_count": 22,
   "metadata": {
    "slideshow": {
     "slide_type": "notes"
    }
   },
   "outputs": [
    {
     "name": "stdout",
     "output_type": "stream",
     "text": [
      "tf.Tensor([2 0 1 3 4], shape=(5,), dtype=int32)\n",
      "tf.Tensor([4 3 2 1 0], shape=(5,), dtype=int32)\n"
     ]
    },
    {
     "data": {
      "text/plain": [
       "<tf.Tensor: id=281, shape=(5,), dtype=int32, numpy=array([4, 3, 2, 1, 0])>"
      ]
     },
     "execution_count": 22,
     "metadata": {},
     "output_type": "execute_result"
    }
   ],
   "source": [
    "a = tf.random.shuffle(tf.range(5))\n",
    "print(a)\n",
    "print(tf.sort(a, direction='DESCENDING'))\n",
    "idx = tf.argsort(a, direction='DESCENDING')\n",
    "tf.gather(a, idx)"
   ]
  },
  {
   "cell_type": "code",
   "execution_count": 27,
   "metadata": {
    "slideshow": {
     "slide_type": "notes"
    }
   },
   "outputs": [
    {
     "name": "stdout",
     "output_type": "stream",
     "text": [
      "tf.Tensor([1 2 3 4 4 5], shape=(6,), dtype=int32)\n",
      "tf.Tensor([5 4], shape=(2,), dtype=int32)\n",
      "tf.Tensor([5 3], shape=(2,), dtype=int32)\n"
     ]
    }
   ],
   "source": [
    "a = tf.convert_to_tensor([1, 2, 3, 4, 4, 5])\n",
    "print(a)\n",
    "res =  tf.math.top_k(a, k=2)\n",
    "print(res.values)\n",
    "print(res.indices)"
   ]
  },
  {
   "cell_type": "code",
   "execution_count": 29,
   "metadata": {
    "slideshow": {
     "slide_type": "notes"
    }
   },
   "outputs": [
    {
     "name": "stdout",
     "output_type": "stream",
     "text": [
      "tf.Tensor(\n",
      "[[0 1 2]\n",
      " [3 4 5]\n",
      " [6 7 8]], shape=(3, 3), dtype=int32)\n",
      "tf.Tensor(\n",
      "[[0 0 0 0 0]\n",
      " [0 0 1 2 0]\n",
      " [0 3 4 5 0]\n",
      " [0 6 7 8 0]], shape=(4, 5), dtype=int32)\n",
      "tf.Tensor(\n",
      "[[0 0 0 0 0]\n",
      " [0 0 1 2 0]\n",
      " [0 3 4 5 0]\n",
      " [0 6 7 8 0]\n",
      " [0 0 0 0 0]], shape=(5, 5), dtype=int32)\n"
     ]
    }
   ],
   "source": [
    "a = tf.reshape(tf.range(9), [3, 3])\n",
    "print(tf.pad(a, [[0, 0], [0, 0]]))\n",
    "print(tf.pad(a, [[1, 0], [1, 1]]))\n",
    "print(tf.pad(a, [[1, 1], [1, 1]]))"
   ]
  },
  {
   "cell_type": "code",
   "execution_count": 32,
   "metadata": {
    "slideshow": {
     "slide_type": "notes"
    }
   },
   "outputs": [
    {
     "name": "stdout",
     "output_type": "stream",
     "text": [
      "tf.Tensor(\n",
      "[[0 1]\n",
      " [2 3]], shape=(2, 2), dtype=int32)\n",
      "tf.Tensor(\n",
      "[[0 1 0 1 0 1]\n",
      " [2 3 2 3 2 3]], shape=(2, 6), dtype=int32)\n",
      "tf.Tensor(\n",
      "[[0 1 0 1]\n",
      " [2 3 2 3]\n",
      " [0 1 0 1]\n",
      " [2 3 2 3]], shape=(4, 4), dtype=int32)\n"
     ]
    }
   ],
   "source": [
    "a = tf.reshape(tf.range(4), [2, 2])\n",
    "print(a)\n",
    "print(tf.tile(a, multiples=[1, 3]))\n",
    "print(tf.tile(a, [2, 2]))"
   ]
  },
  {
   "cell_type": "code",
   "execution_count": 35,
   "metadata": {
    "slideshow": {
     "slide_type": "notes"
    }
   },
   "outputs": [
    {
     "name": "stdout",
     "output_type": "stream",
     "text": [
      "tf.Tensor([0 1 2 3 4 5 6 7 8 9], shape=(10,), dtype=int32)\n",
      "tf.Tensor([2 2 2 3 4 5 6 7 8 9], shape=(10,), dtype=int32)\n",
      "tf.Tensor([0 1 2 2 2 2 2 2 2 2], shape=(10,), dtype=int32)\n"
     ]
    }
   ],
   "source": [
    "a = tf.range(10)\n",
    "print(a)\n",
    "print(tf.maximum(a, 2))\n",
    "print(tf.minimum(a, 2))"
   ]
  },
  {
   "cell_type": "code",
   "execution_count": 36,
   "metadata": {
    "slideshow": {
     "slide_type": "notes"
    }
   },
   "outputs": [
    {
     "name": "stdout",
     "output_type": "stream",
     "text": [
      "tf.Tensor([2 2 2 3 4 5 6 7 8 8], shape=(10,), dtype=int32)\n"
     ]
    }
   ],
   "source": [
    "a = tf.range(10)\n",
    "print(tf.clip_by_value(a, 2, 8))"
   ]
  },
  {
   "cell_type": "code",
   "execution_count": 37,
   "metadata": {
    "slideshow": {
     "slide_type": "notes"
    }
   },
   "outputs": [
    {
     "name": "stdout",
     "output_type": "stream",
     "text": [
      "tf.Tensor(18.948463, shape=(), dtype=float32)\n"
     ]
    },
    {
     "data": {
      "text/plain": [
       "<tf.Tensor: id=416, shape=(), dtype=float32, numpy=15.0>"
      ]
     },
     "execution_count": 37,
     "metadata": {},
     "output_type": "execute_result"
    }
   ],
   "source": [
    "a = tf.random.normal([2, 2], mean=10)\n",
    "print(tf.norm(a))\n",
    "aa = tf.clip_by_norm(a, 15)\n",
    "tf.norm(aa)"
   ]
  },
  {
   "cell_type": "code",
   "execution_count": 40,
   "metadata": {
    "slideshow": {
     "slide_type": "notes"
    }
   },
   "outputs": [
    {
     "name": "stdout",
     "output_type": "stream",
     "text": [
      "tf.Tensor(\n",
      "[[ True  True False]\n",
      " [False False False]\n",
      " [ True  True  True]], shape=(3, 3), dtype=bool)\n",
      "tf.Tensor([0.36952588 0.2789304  0.3798391  0.32346752 0.3061909 ], shape=(5,), dtype=float32)\n",
      "tf.Tensor([0.36952588 0.2789304  0.3798391  0.32346752 0.3061909 ], shape=(5,), dtype=float32)\n"
     ]
    }
   ],
   "source": [
    "a = tf.random.normal([3, 3])\n",
    "mask = a > 0\n",
    "print(mask)\n",
    "print(tf.boolean_mask(a, mask))\n",
    "indices = tf.where(mask)\n",
    "print(tf.gather_nd(a, indices))"
   ]
  },
  {
   "cell_type": "code",
   "execution_count": 42,
   "metadata": {
    "slideshow": {
     "slide_type": "notes"
    }
   },
   "outputs": [
    {
     "name": "stdout",
     "output_type": "stream",
     "text": [
      "tf.Tensor([ 0 11  0 10  9  0  0 12], shape=(8,), dtype=int32)\n"
     ]
    }
   ],
   "source": [
    "indices = tf.constant([[4], [3], [1], [7]])\n",
    "updates = tf.constant([9, 10, 11, 12])\n",
    "shape = tf.constant([8])\n",
    "print(tf.scatter_nd(indices, updates, shape))"
   ]
  },
  {
   "cell_type": "code",
   "execution_count": 50,
   "metadata": {
    "scrolled": true,
    "slideshow": {
     "slide_type": "subslide"
    }
   },
   "outputs": [
    {
     "name": "stdout",
     "output_type": "stream",
     "text": [
      "tf.Tensor(\n",
      "[[-2. -1.  0.  1.  2.]\n",
      " [-2. -1.  0.  1.  2.]\n",
      " [-2. -1.  0.  1.  2.]\n",
      " [-2. -1.  0.  1.  2.]\n",
      " [-2. -1.  0.  1.  2.]], shape=(5, 5), dtype=float32)\n",
      "tf.Tensor(\n",
      "[[-2. -2. -2. -2. -2.]\n",
      " [-1. -1. -1. -1. -1.]\n",
      " [ 0.  0.  0.  0.  0.]\n",
      " [ 1.  1.  1.  1.  1.]\n",
      " [ 2.  2.  2.  2.  2.]], shape=(5, 5), dtype=float32)\n",
      "tf.Tensor(\n",
      "[[[-2. -2.]\n",
      "  [-1. -2.]\n",
      "  [ 0. -2.]\n",
      "  [ 1. -2.]\n",
      "  [ 2. -2.]]], shape=(1, 5, 2), dtype=float32)\n"
     ]
    }
   ],
   "source": [
    "x, y = tf.linspace(-2., 2, 5), tf.linspace(-2., 2, 5)\n",
    "x_points, y_points = tf.meshgrid(x, y)\n",
    "print(x_points)\n",
    "print(y_points)\n",
    "print(tf.stack([x_points, y_points], axis=-1)[:1,...])"
   ]
  }
 ],
 "metadata": {
  "celltoolbar": "幻灯片",
  "kernelspec": {
   "display_name": "Python 3",
   "language": "python",
   "name": "python3"
  },
  "language_info": {
   "codemirror_mode": {
    "name": "ipython",
    "version": 3
   },
   "file_extension": ".py",
   "mimetype": "text/x-python",
   "name": "python",
   "nbconvert_exporter": "python",
   "pygments_lexer": "ipython3",
   "version": "3.6.9"
  }
 },
 "nbformat": 4,
 "nbformat_minor": 2
}
