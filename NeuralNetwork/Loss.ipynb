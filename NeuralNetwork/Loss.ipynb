{
 "cells": [
  {
   "cell_type": "code",
   "execution_count": 1,
   "metadata": {
    "slideshow": {
     "slide_type": "notes"
    }
   },
   "outputs": [],
   "source": [
    "import tensorflow as tf"
   ]
  },
  {
   "cell_type": "code",
   "execution_count": 4,
   "metadata": {
    "slideshow": {
     "slide_type": "notes"
    }
   },
   "outputs": [
    {
     "name": "stdout",
     "output_type": "stream",
     "text": [
      "tf.Tensor(0.9598433, shape=(), dtype=float32)\n",
      "tf.Tensor(0.95984316, shape=(), dtype=float32)\n",
      "tf.Tensor(0.9598433, shape=(), dtype=float32)\n"
     ]
    }
   ],
   "source": [
    "y = tf.constant([1, 2, 3, 0, 2])\n",
    "y = tf.one_hot(y, depth=4)\n",
    "y = tf.cast(y, dtype=tf.float32)\n",
    "\n",
    "out = tf.random.normal([5, 4])\n",
    "loss1 = tf.reduce_mean(tf.square(y-out))\n",
    "loss2 = tf.square(tf.norm(y-out)) / (5*4)\n",
    "loss3 = tf.reduce_mean(tf.losses.MSE(y, out))  # 注意tf.losses.MSE返回一个向量\n",
    "print(loss1)\n",
    "print(loss2)\n",
    "print(loss3)"
   ]
  },
  {
   "cell_type": "code",
   "execution_count": 14,
   "metadata": {
    "slideshow": {
     "slide_type": "notes"
    }
   },
   "outputs": [
    {
     "name": "stdout",
     "output_type": "stream",
     "text": [
      "tf.Tensor(1.3862944, shape=(), dtype=float32)\n",
      "tf.Tensor(1.3862944, shape=(), dtype=float32)\n",
      "tf.Tensor(2.3978953, shape=(), dtype=float32)\n",
      "tf.Tensor(0.35667497, shape=(), dtype=float32)\n",
      "tf.Tensor(0.030459179, shape=(), dtype=float32)\n"
     ]
    }
   ],
   "source": [
    "a = tf.constant([0, 1.0, 0, 0])\n",
    "b = tf.constant([0.25, 0.25, 0.25, 0.25])\n",
    "print(-tf.reduce_sum(a*tf.math.log(b)))\n",
    "print(tf.losses.categorical_crossentropy([0, 1, 0, 0], [0.25, 0.25, 0.25, 0.25]))\n",
    "\n",
    "print(tf.losses.categorical_crossentropy([0, 1, 0, 0], [0.1, 0.1, 0.8, 0.1]))\n",
    "print(tf.losses.categorical_crossentropy([0, 1, 0, 0], [0.1, 0.7, 0.1, 0.1]))\n",
    "print(tf.losses.categorical_crossentropy([0, 1, 0, 0], [0.01, 0.97, 0.01, 0.01]))"
   ]
  }
 ],
 "metadata": {
  "celltoolbar": "幻灯片",
  "kernelspec": {
   "display_name": "Python 3",
   "language": "python",
   "name": "python3"
  },
  "language_info": {
   "codemirror_mode": {
    "name": "ipython",
    "version": 3
   },
   "file_extension": ".py",
   "mimetype": "text/x-python",
   "name": "python",
   "nbconvert_exporter": "python",
   "pygments_lexer": "ipython3",
   "version": "3.6.9"
  }
 },
 "nbformat": 4,
 "nbformat_minor": 2
}
